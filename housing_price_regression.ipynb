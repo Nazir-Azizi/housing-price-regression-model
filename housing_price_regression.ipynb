{
  "nbformat": 4,
  "nbformat_minor": 0,
  "metadata": {
    "colab": {
      "provenance": [],
      "authorship_tag": "ABX9TyPvQ9Cdlxa8JcME+LXsZYKk",
      "include_colab_link": true
    },
    "kernelspec": {
      "name": "python3",
      "display_name": "Python 3"
    },
    "language_info": {
      "name": "python"
    }
  },
  "cells": [
    {
      "cell_type": "markdown",
      "metadata": {
        "id": "view-in-github",
        "colab_type": "text"
      },
      "source": [
        "<a href=\"https://colab.research.google.com/github/Nazir-Azizi/housing-price-regression-model/blob/main/housing_price_regression.ipynb\" target=\"_parent\"><img src=\"https://colab.research.google.com/assets/colab-badge.svg\" alt=\"Open In Colab\"/></a>"
      ]
    },
    {
      "cell_type": "code",
      "execution_count": null,
      "metadata": {
        "id": "wYSHIHmvbUQK"
      },
      "outputs": [],
      "source": [
        "import numpy as np\n",
        "import pandas as pd\n",
        "import matplotlib.pyplot as plt\n",
        "import math\n",
        "import copy"
      ]
    },
    {
      "cell_type": "code",
      "source": [
        "url = \"https://raw.githubusercontent.com/Nazir-Azizi/housing-price-regression-model/refs/heads/main/data.csv\"\n",
        "df = pd.read_csv(url)"
      ],
      "metadata": {
        "id": "ULKtQ2MLcDJ9"
      },
      "execution_count": null,
      "outputs": []
    },
    {
      "cell_type": "code",
      "source": [
        "column_lists = {col: df[col].tolist() for col in df.columns}"
      ],
      "metadata": {
        "id": "2LYNN05ccP6T"
      },
      "execution_count": null,
      "outputs": []
    },
    {
      "cell_type": "code",
      "source": [
        "y = np.array(column_lists['price'], dtype=float)\n",
        "X = np.array([column_lists['size_squre_feet'], column_lists['num_of_bedrooms']], dtype=float)"
      ],
      "metadata": {
        "id": "JMpnBOPUcthM"
      },
      "execution_count": null,
      "outputs": []
    },
    {
      "cell_type": "code",
      "source": [
        "def zscore_normalize(feature):\n",
        "  mean = feature.mean()\n",
        "  std = 0.\n",
        "  for i in range(feature.shape[0]):\n",
        "    std += (feature[i] - mean)**2\n",
        "  std /= feature.shape[0]\n",
        "  std = math.sqrt(std)\n",
        "  scaled_x = np.zeros((feature.shape[0],), dtype=float)\n",
        "  for i in range(feature.shape[0]):\n",
        "    scaled_x[i] = (feature[i] - mean) / std\n",
        "  return scaled_x, mean, std"
      ],
      "metadata": {
        "id": "i5pubYZZwNvM"
      },
      "execution_count": null,
      "outputs": []
    },
    {
      "cell_type": "code",
      "source": [
        "l1, f1_mean , f1_std = zscore_normalize(X[0])\n",
        "l2, f2_mean, f2_std = zscore_normalize(X[1])\n",
        "\n",
        "X_scaled = np.column_stack([l1,l2])"
      ],
      "metadata": {
        "id": "eG3llGZwDISL"
      },
      "execution_count": null,
      "outputs": []
    },
    {
      "cell_type": "code",
      "source": [
        "def compute_cost(X, y, w, b):\n",
        "  m = X.shape[0]\n",
        "  cost = 0.0\n",
        "  for i in range(m):\n",
        "    f_wb_i = np.dot(X[i], w) + b\n",
        "    cost = cost + (f_wb_i - y[i])**2\n",
        "  cost = cost / (2 * m)\n",
        "  return cost"
      ],
      "metadata": {
        "id": "anlNFnEhUHsc"
      },
      "execution_count": null,
      "outputs": []
    },
    {
      "cell_type": "code",
      "source": [
        "def compute_gradien(X, y, w, b):\n",
        "  m,n = X.shape\n",
        "  dj_dw = np.zeros((n,))\n",
        "  dj_db = 0\n",
        "\n",
        "  for i in range(m):\n",
        "    err = (np.dot(X[i], w) + b) - y[i]\n",
        "    for j in range(n):\n",
        "      dj_dw[j] = dj_dw[j] + err * X[i,j]\n",
        "    dj_db = dj_db + err\n",
        "  dj_dw = dj_dw / m\n",
        "  dj_db = dj_db / m\n",
        "  return dj_db, dj_dw"
      ],
      "metadata": {
        "id": "moE52sMkJxXb"
      },
      "execution_count": null,
      "outputs": []
    },
    {
      "cell_type": "code",
      "source": [
        "def gradient_descent(X, y, w_in, b_in, cost_function, gradient_function, alpha, num_iters):\n",
        "  w = copy.deepcopy(w_in)\n",
        "  b = b_in\n",
        "\n",
        "  J_history = []\n",
        "\n",
        "  for i in range(num_iters):\n",
        "    dj_db, dj_dw = gradient_function(X, y, w, b)\n",
        "    w = w - alpha * dj_dw\n",
        "    b = b - alpha * dj_db\n",
        "\n",
        "    if i < 100000:\n",
        "      J_history.append(cost_function(X, y, w, b))\n",
        "\n",
        "    if i% math.ceil(num_iters/ 10) == 0:\n",
        "      print(f\"Iteration {i:4d}: Cost {J_history[-1]:8.2f}\")\n",
        "  return w, b, J_history"
      ],
      "metadata": {
        "id": "JpCZjMgXTxCM"
      },
      "execution_count": null,
      "outputs": []
    },
    {
      "cell_type": "code",
      "source": [
        "initail_w = np.zeros((X.shape[0]) ,dtype=float)\n",
        "initail_b = 0.\n",
        "\n",
        "iterations = 10000\n",
        "alpha = 0.001\n",
        "\n",
        "w_final, b_final, J_hist = gradient_descent(X_scaled, y, initail_w, initail_b,\n",
        "                                            compute_cost, compute_gradien,\n",
        "                                            alpha, iterations)\n",
        "print(f\"b, w found by gradient descent: {b_final:0.2f}, {w_final}\")\n",
        "_, m = X.shape\n",
        "print(X.shape)\n",
        "for i in range(m):\n",
        "  print(f\"prediction: {np.dot(X_scaled[i], w_final) + b_final:0.2f}, target value: {y[i]}\")"
      ],
      "metadata": {
        "colab": {
          "base_uri": "https://localhost:8080/"
        },
        "id": "BTbbZBNKVfSc",
        "outputId": "62e164d4-163b-4809-a084-3caef792c934"
      },
      "execution_count": null,
      "outputs": [
        {
          "output_type": "stream",
          "name": "stdout",
          "text": [
            "Iteration    0: Cost 65461556490.59\n",
            "Iteration 1000: Cost 10655961048.01\n",
            "Iteration 2000: Cost 3362671956.87\n",
            "Iteration 3000: Cost 2292041412.40\n",
            "Iteration 4000: Cost 2106366993.20\n",
            "Iteration 5000: Cost 2064035306.77\n",
            "Iteration 6000: Cost 2051156465.43\n",
            "Iteration 7000: Cost 2046447495.33\n",
            "Iteration 8000: Cost 2044580167.30\n",
            "Iteration 9000: Cost 2043817372.84\n",
            "b, w found by gradient descent: 340397.28, [108736.46443478  -5867.03988583]\n",
            "(2, 47)\n",
            "prediction: 356013.43, target value: 399900.0\n",
            "prediction: 286307.25, target value: 329900.0\n",
            "prediction: 396951.98, target value: 369000.0\n",
            "prediction: 268652.15, target value: 232000.0\n",
            "prediction: 472142.34, target value: 539900.0\n",
            "prediction: 331761.85, target value: 299900.0\n",
            "prediction: 277179.06, target value: 314900.0\n",
            "prediction: 262380.33, target value: 198999.0\n",
            "prediction: 255879.95, target value: 212000.0\n",
            "prediction: 271646.83, target value: 242500.0\n",
            "prediction: 325538.08, target value: 239999.0\n",
            "prediction: 341629.62, target value: 347000.0\n",
            "prediction: 326415.97, target value: 329999.0\n",
            "prediction: 668765.29, target value: 699900.0\n",
            "prediction: 240389.69, target value: 259900.0\n",
            "prediction: 375328.21, target value: 449900.0\n",
            "prediction: 255374.78, target value: 299900.0\n",
            "prediction: 235963.90, target value: 199900.0\n",
            "prediction: 418064.73, target value: 499998.0\n",
            "prediction: 476429.82, target value: 599000.0\n",
            "prediction: 309404.34, target value: 252900.0\n",
            "prediction: 333932.53, target value: 255000.0\n",
            "prediction: 286860.48, target value: 242900.0\n",
            "prediction: 328580.81, target value: 259900.0\n",
            "prediction: 603027.77, target value: 573900.0\n",
            "prediction: 217154.30, target value: 249900.0\n",
            "prediction: 266667.81, target value: 464500.0\n",
            "prediction: 414378.52, target value: 469000.0\n",
            "prediction: 369290.80, target value: 475000.0\n",
            "prediction: 429730.48, target value: 299900.0\n",
            "prediction: 327155.54, target value: 349900.0\n",
            "prediction: 218910.07, target value: 169900.0\n",
            "prediction: 339368.67, target value: 314900.0\n",
            "prediction: 498883.43, target value: 579900.0\n",
            "prediction: 307696.62, target value: 285900.0\n",
            "prediction: 263763.39, target value: 249900.0\n",
            "prediction: 236378.82, target value: 229900.0\n",
            "prediction: 352092.81, target value: 345000.0\n",
            "prediction: 640184.01, target value: 549000.0\n",
            "prediction: 356241.99, target value: 287000.0\n",
            "prediction: 302952.01, target value: 368500.0\n",
            "prediction: 374546.42, target value: 329900.0\n",
            "prediction: 412255.88, target value: 314000.0\n",
            "prediction: 230984.89, target value: 299000.0\n",
            "prediction: 190647.62, target value: 179900.0\n",
            "prediction: 313367.16, target value: 299900.0\n",
            "prediction: 231399.81, target value: 239500.0\n"
          ]
        }
      ]
    },
    {
      "cell_type": "code",
      "source": [
        "def predict(X, w, b):\n",
        "  return np.dot(X, w) + b"
      ],
      "metadata": {
        "id": "Ov63BZ5Q0hkk"
      },
      "execution_count": null,
      "outputs": []
    },
    {
      "cell_type": "code",
      "source": [
        "house_size = 1600\n",
        "house_bedroom = 3\n",
        "house_s_scaled = (house_size - f1_mean) / f1_std\n",
        "house_bedroom_scaled = (house_bedroom - f2_mean) / f2_std\n",
        "predicted_price = predict(np.array([house_s_scaled, house_bedroom_scaled]), w_final, b_final)\n",
        "print(f\"predicted price for a {house_size}sqr meters with {house_bedroom} is {predicted_price}\")"
      ],
      "metadata": {
        "id": "YJj8FhG605Xg",
        "colab": {
          "base_uri": "https://localhost:8080/"
        },
        "outputId": "e166757f-c4e4-45ea-b284-f8ba3addb9dd"
      },
      "execution_count": 14,
      "outputs": [
        {
          "output_type": "stream",
          "name": "stdout",
          "text": [
            "predicted price for a 1600sqr meters with 3 is 286307.2532130338\n"
          ]
        }
      ]
    }
  ]
}